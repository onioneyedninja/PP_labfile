{
 "cells": [
  {
   "cell_type": "markdown",
   "id": "1d1c31d0",
   "metadata": {},
   "source": [
    "List"
   ]
  },
  {
   "cell_type": "code",
   "execution_count": null,
   "id": "9dd05b37",
   "metadata": {},
   "outputs": [],
   "source": [
    "#Create a list of your favourite fruits and print each fruit's name.\n",
    "fruits=['Apples','Mangoes','Peaches','Limes','Bananas','Oranges']\n",
    "print(fruits)"
   ]
  },
  {
   "cell_type": "code",
   "execution_count": null,
   "id": "72bde774",
   "metadata": {},
   "outputs": [],
   "source": [
    "#Given a list of numbers, find the sum and average of the numbers in the list.\n",
    "numbers=[10,20,31,55,11,40,12,44,87]\n",
    "numbers.sort()\n",
    "print(\"The sum of entire list is =\",sum(numbers))\n",
    "print(\"The average of list is =\",sum(numbers) / len(numbers))"
   ]
  },
  {
   "cell_type": "code",
   "execution_count": null,
   "id": "801cd893",
   "metadata": {},
   "outputs": [],
   "source": [
    "#Write a program to remove all duplicates from a list.\n",
    "numbers1=[1,2,3,4,5,6,7,8,9,0,10,11,12,1,22,12,3,1,11,32,33,44,12,1,6,8,9]\n",
    "for i in numbers1:\n",
    "    x=numbers1.count(i)\n",
    "    if x > 0:\n",
    "        j=1\n",
    "        while(j < x):\n",
    "            numbers1.remove(i)\n",
    "            j=j+1\n",
    "numbers1.sort()\n",
    "        \n",
    "print(numbers1)"
   ]
  },
  {
   "cell_type": "code",
   "execution_count": null,
   "id": "8b3caff7",
   "metadata": {},
   "outputs": [],
   "source": [
    "#Create a list of integers, and then reverse the order of the elements in the list.\n",
    "numbers2=numbers\n",
    "print(\"List before reversing\",numbers2)\n",
    "numbers2.reverse()\n",
    "print(\"List after reversing\",numbers2)\n",
    "\n"
   ]
  },
  {
   "cell_type": "code",
   "execution_count": 33,
   "id": "e5fa6697",
   "metadata": {},
   "outputs": [
    {
     "name": "stdout",
     "output_type": "stream",
     "text": [
      "('The maximum value in Given list is', 1321)\n",
      "('The maximum value in Given list is', 213)\n"
     ]
    }
   ],
   "source": [
    "#Write a function to find the maximum element in a list of numbers.\n",
    "def max(li):\n",
    "    temp = 0\n",
    "    for i in li:\n",
    "        if  temp < i:\n",
    "            temp = i\n",
    "    return \"The maximum value in Given list is\",temp\n",
    "    \n",
    "integers=[2,3,4,5,6,7,81,123,213]   \n",
    "print(max([1,2,3,44,1321,112,2,313]))\n",
    "print(max(integers))"
   ]
  },
  {
   "cell_type": "code",
   "execution_count": 34,
   "id": "d47069fb",
   "metadata": {},
   "outputs": [
    {
     "name": "stdout",
     "output_type": "stream",
     "text": [
      "[0, 1, 2, 3, 4, 5, 6, 7, 8, 9, 10, 10, 11, 11, 12, 12, 20, 22, 31, 32, 33, 40, 44, 44, 55, 87]\n"
     ]
    }
   ],
   "source": [
    "#Create two lists of integers, and then merge them into a single list\n",
    "numbers3=numbers1+numbers2\n",
    "numbers3.sort()\n",
    "print(numbers3)"
   ]
  },
  {
   "cell_type": "markdown",
   "id": "e74ff1c4",
   "metadata": {},
   "source": [
    "Tuple"
   ]
  },
  {
   "cell_type": "code",
   "execution_count": 35,
   "id": "3fc53982",
   "metadata": {},
   "outputs": [
    {
     "name": "stdout",
     "output_type": "stream",
     "text": [
      "Mango\n"
     ]
    },
    {
     "ename": "TypeError",
     "evalue": "'tuple' object does not support item assignment",
     "output_type": "error",
     "traceback": [
      "\u001b[1;31m---------------------------------------------------------------------------\u001b[0m",
      "\u001b[1;31mTypeError\u001b[0m                                 Traceback (most recent call last)",
      "Cell \u001b[1;32mIn[35], line 4\u001b[0m\n\u001b[0;32m      2\u001b[0m MyFavFruits\u001b[38;5;241m=\u001b[39m(\u001b[38;5;124m\"\u001b[39m\u001b[38;5;124mMango\u001b[39m\u001b[38;5;124m\"\u001b[39m,\u001b[38;5;124m\"\u001b[39m\u001b[38;5;124mBanana\u001b[39m\u001b[38;5;124m\"\u001b[39m,\u001b[38;5;124m\"\u001b[39m\u001b[38;5;124mOrange\u001b[39m\u001b[38;5;124m\"\u001b[39m)\n\u001b[0;32m      3\u001b[0m \u001b[38;5;28mprint\u001b[39m(MyFavFruits[\u001b[38;5;241m0\u001b[39m])\n\u001b[1;32m----> 4\u001b[0m MyFavFruits[\u001b[38;5;241m0\u001b[39m]\u001b[38;5;241m=\u001b[39m\u001b[38;5;124m\"\u001b[39m\u001b[38;5;124mPeach\u001b[39m\u001b[38;5;124m\"\u001b[39m\n",
      "\u001b[1;31mTypeError\u001b[0m: 'tuple' object does not support item assignment"
     ]
    }
   ],
   "source": [
    "#Create a tuple of three items, and then try to change one of the items. Observe the result.\n",
    "MyFavFruits=(\"Mango\",\"Banana\",\"Orange\")\n",
    "print(MyFavFruits[0])\n",
    "MyFavFruits[0]=\"Peach\""
   ]
  },
  {
   "cell_type": "code",
   "execution_count": 36,
   "id": "d5b5f8e0",
   "metadata": {},
   "outputs": [
    {
     "name": "stdout",
     "output_type": "stream",
     "text": [
      "1\n"
     ]
    }
   ],
   "source": [
    "#Write a program to find the index of a specific element in a tuple.\n",
    "print(MyFavFruits.index(\"Banana\"))"
   ]
  },
  {
   "cell_type": "code",
   "execution_count": 37,
   "id": "2fc78217",
   "metadata": {},
   "outputs": [
    {
     "name": "stdout",
     "output_type": "stream",
     "text": [
      "('Prabhat Singh', 170.2, 20, 'Yash Bhardwaj', 169.223, 23, 'Ayush Meena', 185.78, 19, 'Raj', 165.02, 20)\n",
      "<class 'str'>\n",
      "<class 'float'>\n",
      "<class 'int'>\n",
      "<class 'str'>\n",
      "<class 'float'>\n",
      "<class 'int'>\n",
      "<class 'str'>\n",
      "<class 'float'>\n",
      "<class 'int'>\n",
      "<class 'str'>\n",
      "<class 'float'>\n",
      "<class 'int'>\n"
     ]
    }
   ],
   "source": [
    "#Create a tuple of mixed data types and iterate through the elements, printing their type.\n",
    "Mytupe=('Prabhat Singh',170.2,20,'Yash Bhardwaj',169.223,23,'Ayush Meena',185.78,19,'Raj',165.02,20)\n",
    "print(Mytupe)\n",
    "for i in Mytupe:\n",
    "    print(type(i))"
   ]
  },
  {
   "cell_type": "code",
   "execution_count": 38,
   "id": "1d36e9d2",
   "metadata": {},
   "outputs": [
    {
     "name": "stdout",
     "output_type": "stream",
     "text": [
      "('Mango', 'Banana', 'Orange', 'Potato', 'Tomato', 'spinach')\n"
     ]
    }
   ],
   "source": [
    "#Combine two tuples into a new tuple.\n",
    "MyFavVeg=('Potato','Tomato','spinach')\n",
    "MyFavFruitsNVeg= MyFavFruits+MyFavVeg\n",
    "print(MyFavFruitsNVeg)"
   ]
  },
  {
   "cell_type": "code",
   "execution_count": 39,
   "id": "4da071cb",
   "metadata": {},
   "outputs": [
    {
     "name": "stdout",
     "output_type": "stream",
     "text": [
      "Prabhat Singh 99\n"
     ]
    }
   ],
   "source": [
    "#Given a tuple of student names and their corresponding scores, find the student with the highest score.\n",
    "Mytupe=[('Prabhat Singh',99),('Yash Bhardwaj',91),('Ayush Meena',50),('Raj Mehta',83)]\n",
    "highscore=0\n",
    "name=\"\"\n",
    "for i , j in Mytupe:\n",
    "    if highscore < j:\n",
    "        highscore=j\n",
    "        name=i\n",
    "print(name,highscore)"
   ]
  },
  {
   "cell_type": "code",
   "execution_count": 40,
   "id": "5223e0c6",
   "metadata": {},
   "outputs": [
    {
     "name": "stdout",
     "output_type": "stream",
     "text": [
      "The sum of Tuple is 310\n",
      "The avg of tuple is 34.44444444444444\n"
     ]
    }
   ],
   "source": [
    "#Create a tuple of numbers, and then find the sum and average of the elements.\n",
    "NumbersTupe=tuple(numbers)\n",
    "print(\"The sum of Tuple is\",sum(NumbersTupe))\n",
    "print(\"The avg of tuple is\",sum(NumbersTupe)/len(NumbersTupe))"
   ]
  },
  {
   "cell_type": "markdown",
   "id": "ececae02",
   "metadata": {},
   "source": [
    "Set"
   ]
  },
  {
   "cell_type": "code",
   "execution_count": 41,
   "id": "7993f520",
   "metadata": {},
   "outputs": [
    {
     "name": "stdout",
     "output_type": "stream",
     "text": [
      "set()\n"
     ]
    }
   ],
   "source": [
    "#Create two sets, one containing even numbers and the other containing odd numbers. Find the intersection of the two sets.\n",
    "odd=[]\n",
    "even=[]\n",
    "\n",
    "for i in range(1,101):\n",
    "    if i % 2 == 0:\n",
    "        even.append(i)\n",
    "        \n",
    "    else:\n",
    "        odd.append(i)\n",
    "     \n",
    "    \n",
    "OddSet=set(odd)\n",
    "EvenSet=set(even)\n",
    "\n",
    "print(OddSet.intersection(EvenSet))\n"
   ]
  },
  {
   "cell_type": "code",
   "execution_count": 42,
   "id": "0d144f18",
   "metadata": {},
   "outputs": [
    {
     "name": "stdout",
     "output_type": "stream",
     "text": [
      "{'Green'}\n",
      "{'Yellow', 'Gold', 'Purple', 'Beige'}\n"
     ]
    }
   ],
   "source": [
    "#Create a set of colours and another set of primary colours. Find the difference between the two sets.\n",
    "PrimaryColors={\"Red\",\"Blue\",\"Green\"}\n",
    "Colors={\"Purple\",\"Blue\",\"Gold\",\"Yellow\",\"Red\",\"Beige\"}\n",
    "print(PrimaryColors.difference(Colors))\n",
    "print(Colors.difference(PrimaryColors))"
   ]
  },
  {
   "cell_type": "code",
   "execution_count": 43,
   "id": "1c4533dc",
   "metadata": {},
   "outputs": [
    {
     "name": "stdout",
     "output_type": "stream",
     "text": [
      "Sneha's age is 18 years\n",
      "Prabhat's age is 21 years\n",
      "Yash's age is 23 years\n",
      "Ayush's age is 18 years\n",
      "Nishant's age is 18 years\n"
     ]
    }
   ],
   "source": [
    "#Create a dictionary to store the names and ages of your friends, and print their names and ages.\n",
    "\n",
    "friends_dict = {\n",
    "    'Sneha': 18,\n",
    "    'Prabhat': 21,\n",
    "    'Yash': 23,\n",
    "    'Ayush': 18,\n",
    "    'Nishant': 18\n",
    "    }\n",
    "\n",
    "for name, age in friends_dict.items():\n",
    "    print(f\"{name}'s age is {age} years\")\n",
    "\n",
    "\n"
   ]
  },
  {
   "cell_type": "code",
   "execution_count": 44,
   "id": "98f90823",
   "metadata": {},
   "outputs": [
    {
     "name": "stdout",
     "output_type": "stream",
     "text": [
      "The letter 'p' occurs 1 time(s) in the given string.\n",
      "The letter 'r' occurs 1 time(s) in the given string.\n",
      "The letter 'a' occurs 2 time(s) in the given string.\n",
      "The letter 'b' occurs 1 time(s) in the given string.\n",
      "The letter 'h' occurs 2 time(s) in the given string.\n",
      "The letter 't' occurs 1 time(s) in the given string.\n",
      "The letter 's' occurs 1 time(s) in the given string.\n",
      "The letter 'i' occurs 1 time(s) in the given string.\n",
      "The letter 'n' occurs 1 time(s) in the given string.\n",
      "The letter 'g' occurs 1 time(s) in the given string.\n"
     ]
    }
   ],
   "source": [
    "#Write a program to find the number of occurrences of each letter in a given string and store the result in a dictionary.\n",
    "def count_occurrences(input_string):\n",
    "    \n",
    "    letter_count = {}\n",
    "\n",
    "   \n",
    "    for char in input_string:\n",
    "        \n",
    "        if char.isalpha():\n",
    "            \n",
    "            char = char.lower()\n",
    "            \n",
    "           \n",
    "            letter_count[char] = letter_count.get(char, 0) + 1\n",
    "\n",
    "    return letter_count\n",
    "\n",
    "\n",
    "input_string = \"Prabhat Singh\"\n",
    "result_dict = count_occurrences(input_string)\n",
    "\n",
    "\n",
    "for letter, count in result_dict.items():\n",
    "    print(f\"The letter '{letter}' occurs {count} time(s) in the given string.\")\n"
   ]
  },
  {
   "cell_type": "code",
   "execution_count": 45,
   "id": "dbdc1b63",
   "metadata": {},
   "outputs": [
    {
     "name": "stdout",
     "output_type": "stream",
     "text": [
      "The total cost of the shopping list is: ₹225.00\n"
     ]
    }
   ],
   "source": [
    "#Create a dictionary of products and their prices. Calculate the total cost of a shopping list.\n",
    "def calculate_total_cost(shopping_list, prices_dict):\n",
    "    total_cost = 0\n",
    "\n",
    "    for item, quantity in shopping_list.items():\n",
    "        if item in prices_dict:\n",
    "            total_cost += prices_dict[item] * quantity\n",
    "        else:\n",
    "            print(f\"Warning: {item} is not in the prices dictionary. Skipping it.\")\n",
    "\n",
    "    return total_cost\n",
    "\n",
    "\n",
    "prices_dict = {\n",
    "    'apple': 30.00,\n",
    "    'banana': 7.75,\n",
    "    'milk': 62.50,\n",
    "    'bread': 28.50,\n",
    "    'eggs': 7.00\n",
    "}\n",
    "\n",
    "\n",
    "shopping_list = {\n",
    "    'apple': 3,\n",
    "    'banana': 2,\n",
    "    'milk': 1,\n",
    "    'bread': 2\n",
    "}\n",
    "\n",
    "\n",
    "total_cost = calculate_total_cost(shopping_list, prices_dict)\n",
    "\n",
    "\n",
    "print(f\"The total cost of the shopping list is: ₹{total_cost:.2f}\")\n"
   ]
  },
  {
   "cell_type": "code",
   "execution_count": 46,
   "id": "9abf8e84",
   "metadata": {},
   "outputs": [
    {
     "name": "stdout",
     "output_type": "stream",
     "text": [
      "The student with the highest score is Prabhat with a score of 98.\n"
     ]
    }
   ],
   "source": [
    "#Given a dictionary of student names and their exam scores, find the student with the highest score.\n",
    "def find_highest_score(students_dict):\n",
    "    if not students_dict:\n",
    "        print(\"The dictionary is empty.\")\n",
    "        return None\n",
    "\n",
    "    highest_score = float('-inf')  # Initialize with a very low value\n",
    "    highest_scoring_student = None\n",
    "\n",
    "    for student, score in students_dict.items():\n",
    "        if score > highest_score:\n",
    "            highest_score = score\n",
    "            highest_scoring_student = student\n",
    "\n",
    "    return highest_scoring_student, highest_score\n",
    "\n",
    "\n",
    "students_scores = {\n",
    "    'Sneha': 92,\n",
    "    'Ayush': 85,\n",
    "    'Prabhat': 98,\n",
    "    'Nishant': 28,\n",
    "    'Yash': 91\n",
    "}\n",
    "\n",
    "\n",
    "highest_student, highest_score = find_highest_score(students_scores)\n",
    "\n",
    "\n",
    "if highest_student is not None:\n",
    "    print(f\"The student with the highest score is {highest_student} with a score of {highest_score}.\")\n",
    "else:\n",
    "    print(\"No students in the dictionary.\")\n"
   ]
  },
  {
   "cell_type": "code",
   "execution_count": null,
   "id": "ab21632c",
   "metadata": {},
   "outputs": [],
   "source": [
    "#Create a dictionary of country names and their capitals. Ask the user to enter a country and display its capital.\n",
    "def display_capital(country_dict, country_name):\n",
    "    country_name = country_name.capitalize()  \n",
    "\n",
    "    if country_name in country_dict:\n",
    "        capital = country_dict[country_name]\n",
    "        print(f\"The capital of {country_name} is {capital}.\")\n",
    "    else:\n",
    "        print(f\"Sorry, the capital for {country_name} is not available in the dictionary.\")\n",
    "\n",
    "\n",
    "country_capitals = {\n",
    "    'USA': 'Washington, D.C.',\n",
    "    'Canada': 'Ottawa',\n",
    "    'France': 'Paris',\n",
    "    'Germany': 'Berlin',\n",
    "    'Japan': 'Tokyo'\n",
    "}\n",
    "\n",
    "user_input = input(\"Enter a country name: \")\n",
    "\n",
    "display_capital(country_capitals, user_input)\n"
   ]
  },
  {
   "cell_type": "code",
   "execution_count": null,
   "id": "58427971",
   "metadata": {
    "scrolled": true
   },
   "outputs": [],
   "source": [
    "# alternative code to print countries(all) and thier capitals maintaining such vast dictionary is unoptimised so i used json request and apis and called an api that stores and update countries info\n",
    "import requests\n",
    "\n",
    "def get_country_capitals():\n",
    "    \n",
    "    response = requests.get(\"https://restcountries.com/v3.1/all\")\n",
    "    \n",
    "    if response.status_code == 200:\n",
    "        countries_data = response.json()\n",
    "        country_capitals = {country['name']['common']: country.get('capital', ['N/A'])[0] for country in countries_data}\n",
    "        return country_capitals\n",
    "    else:\n",
    "        print(\"Failed to fetch country data.\")\n",
    "        return {}\n",
    "\n",
    "def display_capital(country_dict, country_name):\n",
    "    country_name = country_name.capitalize()  # Convert input to capitalize first letter\n",
    "\n",
    "    if country_name in country_dict:\n",
    "        capital = country_dict[country_name]\n",
    "        print(f\"The capital of {country_name} is {capital}.\")\n",
    "    else:\n",
    "        print(f\"Sorry, the capital for {country_name} is not available in the dictionary.\")\n",
    "\n",
    "\n",
    "all_country_capitals = get_country_capitals()\n",
    "\n",
    "\n",
    "user_input = input(\"Enter a country name: \")\n",
    "\n",
    "\n",
    "display_capital(all_country_capitals, user_input)\n"
   ]
  },
  {
   "cell_type": "code",
   "execution_count": null,
   "id": "f7c319c2",
   "metadata": {},
   "outputs": [],
   "source": [
    "#Write a program that converts a list of names into a dictionary where the names are the keys and their lengths are the values.\n",
    "def names_to_dictionary(name_list):\n",
    "    name_dict = {name: len(name) for name in name_list}\n",
    "    return name_dict\n",
    "\n",
    "\n",
    "names_list = ['Prabhat', 'Sneha', 'Yash', 'Ayush', 'Nishant']\n",
    "\n",
    "names_dict = names_to_dictionary(names_list)\n",
    "\n",
    "\n",
    "print(names_dict)\n"
   ]
  },
  {
   "cell_type": "code",
   "execution_count": null,
   "id": "96db5925",
   "metadata": {},
   "outputs": [],
   "source": []
  },
  {
   "cell_type": "code",
   "execution_count": null,
   "id": "ab5b3cad",
   "metadata": {},
   "outputs": [],
   "source": []
  },
  {
   "cell_type": "code",
   "execution_count": null,
   "id": "7e10b83d",
   "metadata": {},
   "outputs": [],
   "source": []
  },
  {
   "cell_type": "code",
   "execution_count": null,
   "id": "0774c5cb",
   "metadata": {},
   "outputs": [],
   "source": []
  }
 ],
 "metadata": {
  "kernelspec": {
   "display_name": "Python 3 (ipykernel)",
   "language": "python",
   "name": "python3"
  },
  "language_info": {
   "codemirror_mode": {
    "name": "ipython",
    "version": 3
   },
   "file_extension": ".py",
   "mimetype": "text/x-python",
   "name": "python",
   "nbconvert_exporter": "python",
   "pygments_lexer": "ipython3",
   "version": "3.11.5"
  }
 },
 "nbformat": 4,
 "nbformat_minor": 5
}
